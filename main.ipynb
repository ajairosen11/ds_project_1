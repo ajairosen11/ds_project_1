{
 "cells": [
  {
   "cell_type": "code",
   "execution_count": 6,
   "metadata": {},
   "outputs": [],
   "source": [
    "from glassdoor_scraper import get_data"
   ]
  },
  {
   "cell_type": "code",
   "execution_count": 11,
   "metadata": {},
   "outputs": [
    {
     "name": "stdout",
     "output_type": "stream",
     "text": [
      "The  Scraping Page Number:  1\n",
      "The  Scraping Page Number:  2\n"
     ]
    }
   ],
   "source": [
    "df=get_data('Data Analyst',3)"
   ]
  },
  {
   "cell_type": "code",
   "execution_count": 13,
   "metadata": {},
   "outputs": [
    {
     "data": {
      "text/html": [
       "<div>\n",
       "<style scoped>\n",
       "    .dataframe tbody tr th:only-of-type {\n",
       "        vertical-align: middle;\n",
       "    }\n",
       "\n",
       "    .dataframe tbody tr th {\n",
       "        vertical-align: top;\n",
       "    }\n",
       "\n",
       "    .dataframe thead th {\n",
       "        text-align: right;\n",
       "    }\n",
       "</style>\n",
       "<table border=\"1\" class=\"dataframe\">\n",
       "  <thead>\n",
       "    <tr style=\"text-align: right;\">\n",
       "      <th></th>\n",
       "      <th>Company</th>\n",
       "      <th>Rating</th>\n",
       "      <th>Job_Role</th>\n",
       "      <th>Location</th>\n",
       "      <th>Salary_Range</th>\n",
       "      <th>Posted_Time</th>\n",
       "    </tr>\n",
       "  </thead>\n",
       "  <tbody>\n",
       "    <tr>\n",
       "      <th>0</th>\n",
       "      <td>Wipro Limited</td>\n",
       "      <td>3.7</td>\n",
       "      <td>Data Analyst</td>\n",
       "      <td>Pune</td>\n",
       "      <td>₹4L - ₹6L (Glassdoor Est.)</td>\n",
       "      <td>24h</td>\n",
       "    </tr>\n",
       "    <tr>\n",
       "      <th>1</th>\n",
       "      <td>Deloitte</td>\n",
       "      <td>4.1</td>\n",
       "      <td>SQL and Data Governance - Senior Analyst</td>\n",
       "      <td>Hyderābād</td>\n",
       "      <td>₹6L - ₹8L (Glassdoor Est.)</td>\n",
       "      <td>27d</td>\n",
       "    </tr>\n",
       "    <tr>\n",
       "      <th>2</th>\n",
       "      <td>Spry Therapeutics pvt ltd</td>\n",
       "      <td>Nil</td>\n",
       "      <td>Data Analyst</td>\n",
       "      <td>Pune</td>\n",
       "      <td>₹4L - ₹5L (Employer Est.)</td>\n",
       "      <td>9d</td>\n",
       "    </tr>\n",
       "    <tr>\n",
       "      <th>3</th>\n",
       "      <td>Nest Tech</td>\n",
       "      <td>Nil</td>\n",
       "      <td>Data Analyst (MBA)</td>\n",
       "      <td>Hyderābād</td>\n",
       "      <td>₹3L - ₹6L (Employer Est.)</td>\n",
       "      <td>30d+</td>\n",
       "    </tr>\n",
       "    <tr>\n",
       "      <th>4</th>\n",
       "      <td>Merilytics</td>\n",
       "      <td>Nil</td>\n",
       "      <td>Analyst - Data Science</td>\n",
       "      <td>Hyderābād</td>\n",
       "      <td>₹5L - ₹10L (Glassdoor Est.)</td>\n",
       "      <td>30d+</td>\n",
       "    </tr>\n",
       "    <tr>\n",
       "      <th>5</th>\n",
       "      <td>EY</td>\n",
       "      <td>3.9</td>\n",
       "      <td>Data Analytics, Staff (DE&amp;I)</td>\n",
       "      <td>Noida</td>\n",
       "      <td>₹4L - ₹6L (Glassdoor Est.)</td>\n",
       "      <td>24h</td>\n",
       "    </tr>\n",
       "    <tr>\n",
       "      <th>6</th>\n",
       "      <td>Everest Fleet Pvt Ltd</td>\n",
       "      <td>4.3</td>\n",
       "      <td>Data Analyst</td>\n",
       "      <td>Hyderābād</td>\n",
       "      <td>₹14T - ₹20T (Employer Est.)</td>\n",
       "      <td>5d</td>\n",
       "    </tr>\n",
       "    <tr>\n",
       "      <th>7</th>\n",
       "      <td>8848 Digital LLP</td>\n",
       "      <td>Nil</td>\n",
       "      <td>Data Analyst</td>\n",
       "      <td>Remote</td>\n",
       "      <td>₹7L - ₹9L (Employer Est.)</td>\n",
       "      <td>10d</td>\n",
       "    </tr>\n",
       "    <tr>\n",
       "      <th>8</th>\n",
       "      <td>Omnify</td>\n",
       "      <td>2.3</td>\n",
       "      <td>DATA ANALYST INTERN</td>\n",
       "      <td>Bengaluru</td>\n",
       "      <td>Nil</td>\n",
       "      <td>2d</td>\n",
       "    </tr>\n",
       "    <tr>\n",
       "      <th>9</th>\n",
       "      <td>Nest Tech</td>\n",
       "      <td>Nil</td>\n",
       "      <td>Business/Data Analyst</td>\n",
       "      <td>Visakhapatnam</td>\n",
       "      <td>₹3L - ₹7L (Employer Est.)</td>\n",
       "      <td>30d+</td>\n",
       "    </tr>\n",
       "  </tbody>\n",
       "</table>\n",
       "</div>"
      ],
      "text/plain": [
       "                     Company Rating  ...                 Salary_Range Posted_Time\n",
       "0              Wipro Limited    3.7  ...   ₹4L - ₹6L (Glassdoor Est.)         24h\n",
       "1                   Deloitte    4.1  ...   ₹6L - ₹8L (Glassdoor Est.)         27d\n",
       "2  Spry Therapeutics pvt ltd    Nil  ...    ₹4L - ₹5L (Employer Est.)          9d\n",
       "3                  Nest Tech    Nil  ...    ₹3L - ₹6L (Employer Est.)        30d+\n",
       "4                 Merilytics    Nil  ...  ₹5L - ₹10L (Glassdoor Est.)        30d+\n",
       "5                         EY    3.9  ...   ₹4L - ₹6L (Glassdoor Est.)         24h\n",
       "6      Everest Fleet Pvt Ltd    4.3  ...  ₹14T - ₹20T (Employer Est.)          5d\n",
       "7           8848 Digital LLP    Nil  ...    ₹7L - ₹9L (Employer Est.)         10d\n",
       "8                     Omnify    2.3  ...                          Nil          2d\n",
       "9                  Nest Tech    Nil  ...    ₹3L - ₹7L (Employer Est.)        30d+\n",
       "\n",
       "[10 rows x 6 columns]"
      ]
     },
     "execution_count": 13,
     "metadata": {},
     "output_type": "execute_result"
    }
   ],
   "source": [
    "df.head(10)"
   ]
  },
  {
   "cell_type": "code",
   "execution_count": null,
   "metadata": {},
   "outputs": [],
   "source": []
  }
 ],
 "metadata": {
  "kernelspec": {
   "display_name": "ds_project_1",
   "language": "python",
   "name": "python3"
  },
  "language_info": {
   "codemirror_mode": {
    "name": "ipython",
    "version": 3
   },
   "file_extension": ".py",
   "mimetype": "text/x-python",
   "name": "python",
   "nbconvert_exporter": "python",
   "pygments_lexer": "ipython3",
   "version": "3.9.13"
  },
  "orig_nbformat": 4
 },
 "nbformat": 4,
 "nbformat_minor": 2
}
