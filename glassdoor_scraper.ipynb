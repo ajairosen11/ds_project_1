{
 "cells": [
  {
   "cell_type": "code",
   "execution_count": null,
   "metadata": {},
   "outputs": [],
   "source": [
    "from selenium.webdriver.chrome.service import Service\n",
    "import time\n",
    "import pandas as pd\n",
    "import os\n",
    "from selenium.webdriver.common.by import By\n",
    "import undetected_chromedriver as uc\n",
    "from config import email_pw\n",
    "from selenium.webdriver.common.keys import Keys\n",
    "import re"
   ]
  },
  {
   "cell_type": "code",
   "execution_count": null,
   "metadata": {},
   "outputs": [],
   "source": [
    "service = Service(executable_path='chromedriver.exe')\n",
    "driver = uc.Chrome(service=service)\n",
    "job_title='Data-Analyst'\n",
    "url='https://www.glassdoor.co.in/index.htm'\n",
    "driver.get(url)\n",
    "time.sleep(1.5)\n",
    "email_input = driver.find_element(By.ID, \"inlineUserEmail\")\n",
    "email_input.send_keys('vishalajairosen@gmail.com')\n",
    "continue_with_email_button = driver.find_element(By.CLASS_NAME, \"css-1h52dri\")\n",
    "continue_with_email_button.click()\n",
    "time.sleep(2)\n",
    "password_input = driver.find_element(By.ID, \"inlineUserPassword\")\n",
    "password_input.send_keys(email_pw)\n",
    "sign_in_button = driver.find_element(By.CLASS_NAME, \"gd-ui-button\")\n",
    "sign_in_button.click()\n",
    "time.sleep(1)\n",
    "jobs_link = driver.find_element(By.LINK_TEXT, \"Jobs\")\n",
    "jobs_link.click()\n",
    "search_input = driver.find_element(By.ID, \"searchBar-jobTitle\")\n",
    "search_input.send_keys(\"Data Scientist\")\n",
    "search_input.send_keys(Keys.RETURN)\n",
    "svg_element = driver.find_element(By.XPATH, '//*[@class=\"SVGInline-svg modal_closeIcon-svg\"]')\n",
    "svg_element.click()\n",
    "time.sleep(1.5)\n",
    "lst=[]\n",
    "pages=5\n",
    "for j in list(range(3,pages+2)):\n",
    "    for i in list(range(1,31)):\n",
    "        print('The  Scraping Page Number: ',j-2)\n",
    "        t=driver.find_element(By.XPATH,'//*[@id=\"MainCol\"]/div[1]/ul/li[{}]/div/div/a'.format(i)).text\n",
    "        lst.append(t)\n",
    "        time.sleep(2)\n",
    "    next_button=driver.find_element(By.XPATH,'//*[@id=\"MainCol\"]/div[2]/div/div[1]/button[{}]'.format(j))\n",
    "    next_button.click()\n",
    "\n",
    "split_data = [item.split('\\n') for item in lst]\n",
    "\n",
    "def split_names_digits(item):\n",
    "    match = re.search(r'([A-Za-z\\s]+)(\\d+\\.\\d+)\\s★', item)\n",
    "    if match:\n",
    "        return [match.group(1), match.group(2)]\n",
    "    else:\n",
    "        return [item, 'Nil']\n",
    "\n",
    "for inner_list in split_data:\n",
    "    inner_list[:1] = split_names_digits(inner_list[0])\n",
    "\n",
    "for inner_list in split_data:\n",
    "    if len(inner_list) == 5:\n",
    "        inner_list.insert(4, 'Nil')\n",
    "    if len(inner_list) == 7 and inner_list[5] == 'Easy Apply':\n",
    "        inner_list.pop(5)\n",
    "\n",
    "df=pd.DataFrame(split_data,columns=['Company','Rating','Job_Role','Location','Salary_Range','Posted_Time'])\n"
   ]
  }
 ],
 "metadata": {
  "kernelspec": {
   "display_name": "ds_project_1",
   "language": "python",
   "name": "python3"
  },
  "language_info": {
   "codemirror_mode": {
    "name": "ipython",
    "version": 3
   },
   "file_extension": ".py",
   "mimetype": "text/x-python",
   "name": "python",
   "nbconvert_exporter": "python",
   "pygments_lexer": "ipython3",
   "version": "3.9.13"
  },
  "orig_nbformat": 4
 },
 "nbformat": 4,
 "nbformat_minor": 2
}
